{
 "cells": [
  {
   "cell_type": "code",
   "execution_count": 32,
   "outputs": [],
   "source": [
    "from ib_insync import *\n",
    "import nest_asyncio\n",
    "\n",
    "nest_asyncio.apply()"
   ],
   "metadata": {
    "collapsed": false,
    "ExecuteTime": {
     "end_time": "2023-10-14T19:08:28.585197Z",
     "start_time": "2023-10-14T19:08:28.582059Z"
    }
   },
   "id": "fbbbdb4ed991c344"
  },
  {
   "cell_type": "code",
   "execution_count": 33,
   "id": "initial_id",
   "metadata": {
    "collapsed": true,
    "ExecuteTime": {
     "end_time": "2023-10-14T19:08:30.520609Z",
     "start_time": "2023-10-14T19:08:30.052689Z"
    }
   },
   "outputs": [
    {
     "data": {
      "text/plain": "<IB connected to 127.0.0.1:7497 clientId=3>"
     },
     "execution_count": 33,
     "metadata": {},
     "output_type": "execute_result"
    }
   ],
   "source": [
    "\n",
    "ib = IB()\n",
    "ib.connect('127.0.0.1', 7497, clientId=3)\n"
   ]
  },
  {
   "cell_type": "code",
   "execution_count": 69,
   "outputs": [
    {
     "data": {
      "text/plain": "[Option(conId=657962559, symbol='SPY', lastTradeDateOrContractMonth='20231018', strike=420.0, right='C', multiplier='100', exchange='SMART', currency='USD', localSymbol='SPY   231018C00420000', tradingClass='SPY'),\n Option(conId=657962625, symbol='SPY', lastTradeDateOrContractMonth='20231018', strike=430.0, right='C', multiplier='100', exchange='SMART', currency='USD', localSymbol='SPY   231018C00430000', tradingClass='SPY'),\n Option(conId=657962645, symbol='SPY', lastTradeDateOrContractMonth='20231018', strike=440.0, right='C', multiplier='100', exchange='SMART', currency='USD', localSymbol='SPY   231018C00440000', tradingClass='SPY'),\n Option(conId=657962668, symbol='SPY', lastTradeDateOrContractMonth='20231018', strike=480.0, right='C', multiplier='100', exchange='SMART', currency='USD', localSymbol='SPY   231018C00480000', tradingClass='SPY')]"
     },
     "execution_count": 69,
     "metadata": {},
     "output_type": "execute_result"
    }
   ],
   "source": [
    "# Define the underlying stock\n",
    "symbol = 'SPY'\n",
    "exchange = 'SMART'\n",
    "currency = 'USD'\n",
    "\n",
    "# Define the three strike prices\n",
    "lower_strike = 420\n",
    "middle_strike = 430\n",
    "higher_strike = 440\n",
    "\n",
    "# Define the expiration and option type (e.g., '20230120' and 'CALL')\n",
    "expiration = '20231018'\n",
    "opt_type = 'CALL'\n",
    "\n",
    "# Create the option legs\n",
    "lower_leg = Option(symbol, expiration, lower_strike, opt_type, exchange)\n",
    "middle_leg = Option(symbol, expiration, middle_strike, opt_type, exchange)\n",
    "higher_leg = Option(symbol, expiration, higher_strike, opt_type, exchange)\n",
    "additional_leg = Option(symbol, expiration, 480, opt_type, exchange)\n",
    "\n",
    "ib.qualifyContracts(lower_leg, middle_leg, higher_leg, additional_leg)\n",
    "\n",
    "\n"
   ],
   "metadata": {
    "collapsed": false,
    "ExecuteTime": {
     "end_time": "2023-10-14T20:21:24.476117Z",
     "start_time": "2023-10-14T20:21:24.109976Z"
    }
   },
   "id": "5249309463bcdd82"
  },
  {
   "cell_type": "code",
   "execution_count": 72,
   "outputs": [
    {
     "ename": "TypeError",
     "evalue": "Contract.__init__() got an unexpected keyword argument 'comboLegsDescription'",
     "output_type": "error",
     "traceback": [
      "\u001B[0;31m---------------------------------------------------------------------------\u001B[0m",
      "\u001B[0;31mTypeError\u001B[0m                                 Traceback (most recent call last)",
      "Cell \u001B[0;32mIn[72], line 9\u001B[0m\n\u001B[1;32m      1\u001B[0m \u001B[38;5;66;03m# Define the ComboLegs for the butterfly spread\u001B[39;00m\n\u001B[1;32m      2\u001B[0m legs \u001B[38;5;241m=\u001B[39m [\n\u001B[1;32m      3\u001B[0m     ComboLeg(conId\u001B[38;5;241m=\u001B[39mlower_leg\u001B[38;5;241m.\u001B[39mconId, action\u001B[38;5;241m=\u001B[39m\u001B[38;5;124m'\u001B[39m\u001B[38;5;124mBUY\u001B[39m\u001B[38;5;124m'\u001B[39m, ratio\u001B[38;5;241m=\u001B[39m\u001B[38;5;241m1\u001B[39m),\n\u001B[1;32m      4\u001B[0m     ComboLeg(conId\u001B[38;5;241m=\u001B[39mmiddle_leg\u001B[38;5;241m.\u001B[39mconId, action\u001B[38;5;241m=\u001B[39m\u001B[38;5;124m'\u001B[39m\u001B[38;5;124mSELL\u001B[39m\u001B[38;5;124m'\u001B[39m, ratio\u001B[38;5;241m=\u001B[39m\u001B[38;5;241m2\u001B[39m),\n\u001B[1;32m      5\u001B[0m     ComboLeg(conId\u001B[38;5;241m=\u001B[39mhigher_leg\u001B[38;5;241m.\u001B[39mconId, action\u001B[38;5;241m=\u001B[39m\u001B[38;5;124m'\u001B[39m\u001B[38;5;124mBUY\u001B[39m\u001B[38;5;124m'\u001B[39m, ratio\u001B[38;5;241m=\u001B[39m\u001B[38;5;241m1\u001B[39m),\n\u001B[1;32m      6\u001B[0m     ComboLeg(conId\u001B[38;5;241m=\u001B[39madditional_leg\u001B[38;5;241m.\u001B[39mconId, action\u001B[38;5;241m=\u001B[39m\u001B[38;5;124m'\u001B[39m\u001B[38;5;124mSELL\u001B[39m\u001B[38;5;124m'\u001B[39m, ratio\u001B[38;5;241m=\u001B[39m\u001B[38;5;241m1\u001B[39m)\n\u001B[1;32m      7\u001B[0m ]\n\u001B[0;32m----> 9\u001B[0m contract \u001B[38;5;241m=\u001B[39m \u001B[43mBag\u001B[49m\u001B[43m(\u001B[49m\u001B[43msymbol\u001B[49m\u001B[38;5;241;43m=\u001B[39;49m\u001B[43msymbol\u001B[49m\u001B[43m,\u001B[49m\u001B[43m \u001B[49m\u001B[43mexchange\u001B[49m\u001B[38;5;241;43m=\u001B[39;49m\u001B[43mexchange\u001B[49m\u001B[43m,\u001B[49m\u001B[43m \u001B[49m\u001B[43mcomboLegs\u001B[49m\u001B[38;5;241;43m=\u001B[39;49m\u001B[43mlegs\u001B[49m\u001B[43m,\u001B[49m\u001B[43m \u001B[49m\u001B[43mcurrency\u001B[49m\u001B[43m \u001B[49m\u001B[38;5;241;43m=\u001B[39;49m\u001B[43m \u001B[49m\u001B[43mcurrency\u001B[49m\u001B[43m,\u001B[49m\u001B[43m \u001B[49m\u001B[43mcomboLegsDescription\u001B[49m\u001B[38;5;241;43m=\u001B[39;49m\u001B[38;5;124;43m'\u001B[39;49m\u001B[38;5;124;43mTemp\u001B[39;49m\u001B[38;5;124;43m'\u001B[39;49m\u001B[43m)\u001B[49m\n",
      "File \u001B[0;32m~/git/shared-venv/ib-helper/lib/python3.11/site-packages/ib_insync/contract.py:422\u001B[0m, in \u001B[0;36mBag.__init__\u001B[0;34m(self, **kwargs)\u001B[0m\n\u001B[1;32m    420\u001B[0m \u001B[38;5;28;01mdef\u001B[39;00m \u001B[38;5;21m__init__\u001B[39m(\u001B[38;5;28mself\u001B[39m, \u001B[38;5;241m*\u001B[39m\u001B[38;5;241m*\u001B[39mkwargs):\n\u001B[1;32m    421\u001B[0m \u001B[38;5;250m    \u001B[39m\u001B[38;5;124;03m\"\"\"Bag contract.\"\"\"\u001B[39;00m\n\u001B[0;32m--> 422\u001B[0m     \u001B[43mContract\u001B[49m\u001B[38;5;241;43m.\u001B[39;49m\u001B[38;5;21;43m__init__\u001B[39;49m\u001B[43m(\u001B[49m\u001B[38;5;28;43mself\u001B[39;49m\u001B[43m,\u001B[49m\u001B[43m \u001B[49m\u001B[38;5;124;43m'\u001B[39;49m\u001B[38;5;124;43mBAG\u001B[39;49m\u001B[38;5;124;43m'\u001B[39;49m\u001B[43m,\u001B[49m\u001B[43m \u001B[49m\u001B[38;5;241;43m*\u001B[39;49m\u001B[38;5;241;43m*\u001B[39;49m\u001B[43mkwargs\u001B[49m\u001B[43m)\u001B[49m\n",
      "\u001B[0;31mTypeError\u001B[0m: Contract.__init__() got an unexpected keyword argument 'comboLegsDescription'"
     ]
    }
   ],
   "source": [
    "# Define the ComboLegs for the butterfly spread\n",
    "legs = [\n",
    "    ComboLeg(conId=lower_leg.conId, action='BUY', ratio=1),\n",
    "    ComboLeg(conId=middle_leg.conId, action='SELL', ratio=2),\n",
    "    ComboLeg(conId=higher_leg.conId, action='BUY', ratio=1),\n",
    "    ComboLeg(conId=additional_leg.conId, action='SELL', ratio=1)\n",
    "]\n",
    "\n",
    "contract = Bag(symbol=symbol, exchange=exchange, comboLegs=legs, currency = currency, comboLegsDescription='Temp')"
   ],
   "metadata": {
    "collapsed": false,
    "ExecuteTime": {
     "end_time": "2023-10-14T20:22:27.278488Z",
     "start_time": "2023-10-14T20:22:27.245565Z"
    }
   },
   "id": "e60d1804a19eefa8"
  },
  {
   "cell_type": "code",
   "execution_count": 66,
   "outputs": [
    {
     "data": {
      "text/plain": "Bag(symbol='SPY', exchange='SMART', currency='USD', comboLegs=[ComboLeg(conId=657962559, ratio=1, action='BUY', exchange='', openClose=0, shortSaleSlot=0, designatedLocation='', exemptCode=-1), ComboLeg(conId=657962625, ratio=2, action='SELL', exchange='', openClose=0, shortSaleSlot=0, designatedLocation='', exemptCode=-1), ComboLeg(conId=657962645, ratio=1, action='BUY', exchange='', openClose=0, shortSaleSlot=0, designatedLocation='', exemptCode=-1), ComboLeg(conId=0, ratio=1, action='SELL', exchange='', openClose=0, shortSaleSlot=0, designatedLocation='', exemptCode=-1)])"
     },
     "execution_count": 66,
     "metadata": {},
     "output_type": "execute_result"
    }
   ],
   "source": [
    "contract"
   ],
   "metadata": {
    "collapsed": false,
    "ExecuteTime": {
     "end_time": "2023-10-14T20:21:00.048042Z",
     "start_time": "2023-10-14T20:21:00.043108Z"
    }
   },
   "id": "c62aa5c0d748e49a"
  },
  {
   "cell_type": "code",
   "execution_count": 73,
   "outputs": [],
   "source": [
    "trade = ib.placeOrder(contract, Order(action='BUY', orderType='MKT', totalQuantity=1))"
   ],
   "metadata": {
    "collapsed": false,
    "ExecuteTime": {
     "end_time": "2023-10-14T20:22:30.768394Z",
     "start_time": "2023-10-14T20:22:30.764913Z"
    }
   },
   "id": "f1e239e55c19cd87"
  },
  {
   "cell_type": "code",
   "execution_count": 68,
   "outputs": [
    {
     "data": {
      "text/plain": "Trade(contract=Bag(symbol='SPY', exchange='SMART', currency='USD', comboLegs=[ComboLeg(conId=657962559, ratio=1, action='BUY', exchange='', openClose=0, shortSaleSlot=0, designatedLocation='', exemptCode=-1), ComboLeg(conId=657962625, ratio=2, action='SELL', exchange='', openClose=0, shortSaleSlot=0, designatedLocation='', exemptCode=-1), ComboLeg(conId=657962645, ratio=1, action='BUY', exchange='', openClose=0, shortSaleSlot=0, designatedLocation='', exemptCode=-1), ComboLeg(conId=0, ratio=1, action='SELL', exchange='', openClose=0, shortSaleSlot=0, designatedLocation='', exemptCode=-1)]), order=Order(orderId=27, clientId=3, action='BUY', totalQuantity=1, orderType='MKT'), orderStatus=OrderStatus(orderId=27, status='Cancelled', filled=0.0, remaining=0.0, avgFillPrice=0.0, permId=0, parentId=0, lastFillPrice=0.0, clientId=0, whyHeld='', mktCapPrice=0.0), fills=[], log=[TradeLogEntry(time=datetime.datetime(2023, 10, 14, 20, 21, 4, 42773, tzinfo=datetime.timezone.utc), status='PendingSubmit', message='', errorCode=0), TradeLogEntry(time=datetime.datetime(2023, 10, 14, 20, 21, 4, 46364, tzinfo=datetime.timezone.utc), status='Cancelled', message=\"Error 321, reqId 27: Error validating request.-'bS' : cause - The combo details for leg '3' are invalid. -  conid, ratio, side: 0, 1, 2\", errorCode=321)], advancedError='')"
     },
     "execution_count": 68,
     "metadata": {},
     "output_type": "execute_result"
    }
   ],
   "source": [
    "trade\n"
   ],
   "metadata": {
    "collapsed": false,
    "ExecuteTime": {
     "end_time": "2023-10-14T20:21:12.440139Z",
     "start_time": "2023-10-14T20:21:12.434353Z"
    }
   },
   "id": "e5a376026755a5bc"
  }
 ],
 "metadata": {
  "kernelspec": {
   "display_name": "Python 3",
   "language": "python",
   "name": "python3"
  },
  "language_info": {
   "codemirror_mode": {
    "name": "ipython",
    "version": 2
   },
   "file_extension": ".py",
   "mimetype": "text/x-python",
   "name": "python",
   "nbconvert_exporter": "python",
   "pygments_lexer": "ipython2",
   "version": "2.7.6"
  }
 },
 "nbformat": 4,
 "nbformat_minor": 5
}
